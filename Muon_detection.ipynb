{
 "cells": [
  {
   "metadata": {},
   "cell_type": "markdown",
   "source": "## Muon Detection Tools",
   "id": "904ff41fedd3546e"
  },
  {
   "metadata": {
    "ExecuteTime": {
     "end_time": "2024-10-24T23:20:58.172051Z",
     "start_time": "2024-10-24T23:20:57.985388Z"
    }
   },
   "cell_type": "code",
   "source": [
    "from cr_catalogue.cr_catalogue import cr_catalogue\n",
    "\n",
    "[spike_start, spike_end] = cr_catalogue(\"muon_data\")"
   ],
   "id": "da49c6109de7c78a",
   "outputs": [
    {
     "name": "stdout",
     "output_type": "stream",
     "text": [
      "The main spike starts at: 0.44999999999999996\n",
      "The main spike ends at: 0.69\n"
     ]
    },
    {
     "data": {
      "text/plain": [
       "<Figure size 640x480 with 1 Axes>"
      ],
      "image/png": "[encoded data removed]"
     },
     "metadata": {},
     "output_type": "display_data"
    }
   ],
   "execution_count": 2
  },
  {
   "metadata": {
    "ExecuteTime": {
     "end_time": "2024-10-24T23:21:04.442116Z",
     "start_time": "2024-10-24T23:21:04.439898Z"
    }
   },
   "cell_type": "code",
   "source": [
    "print(f'The main spike starts at: {spike_start}')\n",
    "print(f'The main spike ends at: {spike_end}')"
   ],
   "id": "8fa36d06e6ae53fd",
   "outputs": [
    {
     "name": "stdout",
     "output_type": "stream",
     "text": [
      "The main spike starts at: 0.44999999999999996\n",
      "The main spike ends at: 0.69\n"
     ]
    }
   ],
   "execution_count": 3
  },
  {
   "metadata": {
    "ExecuteTime": {
     "end_time": "2024-10-24T23:22:19.308879Z",
     "start_time": "2024-10-24T23:21:05.698570Z"
    }
   },
   "cell_type": "code",
   "source": [
    "from muon_fit.muon_fit import muon_fit\n",
    "\n",
    "muon_fit(\"muon_data\", spike_start, spike_end, gplot=False, hplot=False, ps=True, crplot=False, verbose=False)"
   ],
   "id": "7730f1c85df5b220",
   "outputs": [
    {
     "name": "stdout",
     "output_type": "stream",
     "text": [
      "Processing: muon_data/img1566_00.fits\n",
      "No valid weights for fitting in segment 372.0\n"
     ]
    },
    {
     "name": "stderr",
     "output_type": "stream",
     "text": [
      "/home/mike-langmayr/git/idlpy-test/muon_fit/muon_sample.py:34: OptimizeWarning: Covariance of the parameters could not be estimated\n",
      "  popt, _ = curve_fit(gaussian, xf, yf, p0=[np.max(yf), np.median(xf), np.std(xf), np.min(yf)])\n"
     ]
    },
    {
     "name": "stdout",
     "output_type": "stream",
     "text": [
      "No valid weights for fitting in segment 459.0\n",
      "No valid weights for fitting in segment 739.0\n",
      "muon_data/img1566_00.fits: N CRs = 13\n",
      "Processing: muon_data/img1567_00.fits\n",
      "No valid weights for fitting in segment 103.0\n",
      "No valid weights for fitting in segment 339.0\n",
      "No valid weights for fitting in segment 823.0\n",
      "muon_data/img1567_00.fits: N CRs = 20\n",
      "Processing: muon_data/img1568_00.fits\n",
      "No valid weights for fitting in segment 569.0\n",
      "muon_data/img1568_00.fits: N CRs = 18\n",
      "Processing: muon_data/img1569_00.fits\n",
      "No valid weights for fitting in segment 83.0\n",
      "No valid weights for fitting in segment 425.0\n",
      "No valid weights for fitting in segment 566.0\n",
      "muon_data/img1569_00.fits: N CRs = 12\n",
      "Processing: muon_data/img1570_00.fits\n",
      "No valid weights for fitting in segment 93.0\n",
      "No valid weights for fitting in segment 257.0\n",
      "No valid weights for fitting in segment 316.0\n",
      "No valid weights for fitting in segment 415.0\n",
      "muon_data/img1570_00.fits: N CRs = 16\n",
      "Processing: muon_data/img1571_00.fits\n",
      "No valid weights for fitting in segment 501.0\n",
      "muon_data/img1571_00.fits: N CRs = 12\n",
      "Processing: muon_data/img1572_00.fits\n",
      "No valid weights for fitting in segment 248.0\n",
      "muon_data/img1572_00.fits: N CRs = 19\n",
      "Processing: muon_data/img1573_00.fits\n",
      "muon_data/img1573_00.fits: N CRs = 20\n",
      "Processing: muon_data/img1574_00.fits\n",
      "No valid weights for fitting in segment 455.0\n",
      "No valid weights for fitting in segment 702.0\n",
      "No valid weights for fitting in segment 730.0\n",
      "muon_data/img1574_00.fits: N CRs = 12\n",
      "Processing: muon_data/img1575_00.fits\n",
      "No valid weights for fitting in segment 215.0\n",
      "No valid weights for fitting in segment 661.0\n",
      "muon_data/img1575_00.fits: N CRs = 23\n",
      "Processing: muon_data/img1576_00.fits\n",
      "No valid weights for fitting in segment 252.0\n",
      "No valid weights for fitting in segment 412.0\n",
      "muon_data/img1576_00.fits: N CRs = 11\n",
      "allbig and allsmall lengths: 176 vs 174\n"
     ]
    },
    {
     "ename": "ValueError",
     "evalue": "operands could not be broadcast together with shapes (176,) (174,) ",
     "output_type": "error",
     "traceback": [
      "\u001B[0;31m---------------------------------------------------------------------------\u001B[0m",
      "\u001B[0;31mValueError\u001B[0m                                Traceback (most recent call last)",
      "Cell \u001B[0;32mIn[4], line 3\u001B[0m\n\u001B[1;32m      1\u001B[0m \u001B[38;5;28;01mfrom\u001B[39;00m \u001B[38;5;21;01mmuon_fit\u001B[39;00m\u001B[38;5;21;01m.\u001B[39;00m\u001B[38;5;21;01mmuon_fit\u001B[39;00m \u001B[38;5;28;01mimport\u001B[39;00m muon_fit\n\u001B[0;32m----> 3\u001B[0m \u001B[43mmuon_fit\u001B[49m\u001B[43m(\u001B[49m\u001B[38;5;124;43m\"\u001B[39;49m\u001B[38;5;124;43mmuon_data\u001B[39;49m\u001B[38;5;124;43m\"\u001B[39;49m\u001B[43m,\u001B[49m\u001B[43m \u001B[49m\u001B[43mspike_start\u001B[49m\u001B[43m,\u001B[49m\u001B[43m \u001B[49m\u001B[43mspike_end\u001B[49m\u001B[43m,\u001B[49m\u001B[43m \u001B[49m\u001B[43mgplot\u001B[49m\u001B[38;5;241;43m=\u001B[39;49m\u001B[38;5;28;43;01mFalse\u001B[39;49;00m\u001B[43m,\u001B[49m\u001B[43m \u001B[49m\u001B[43mhplot\u001B[49m\u001B[38;5;241;43m=\u001B[39;49m\u001B[38;5;28;43;01mFalse\u001B[39;49;00m\u001B[43m,\u001B[49m\u001B[43m \u001B[49m\u001B[43mps\u001B[49m\u001B[38;5;241;43m=\u001B[39;49m\u001B[38;5;28;43;01mTrue\u001B[39;49;00m\u001B[43m,\u001B[49m\u001B[43m \u001B[49m\u001B[43mcrplot\u001B[49m\u001B[38;5;241;43m=\u001B[39;49m\u001B[38;5;28;43;01mFalse\u001B[39;49;00m\u001B[43m,\u001B[49m\u001B[43m \u001B[49m\u001B[43mverbose\u001B[49m\u001B[38;5;241;43m=\u001B[39;49m\u001B[38;5;28;43;01mFalse\u001B[39;49;00m\u001B[43m)\u001B[49m\n",
      "File \u001B[0;32m~/git/idlpy-test/muon_fit/muon_fit.py:117\u001B[0m, in \u001B[0;36mmuon_fit\u001B[0;34m(data_dir, mw0, mw1, gplot, hplot, ps, crplot, verbose)\u001B[0m\n\u001B[1;32m    114\u001B[0m allsmall \u001B[38;5;241m=\u001B[39m allsmall[allsmall \u001B[38;5;241m>\u001B[39m \u001B[38;5;241m0\u001B[39m]\n\u001B[1;32m    116\u001B[0m \u001B[38;5;28mprint\u001B[39m(\u001B[38;5;124mf\u001B[39m\u001B[38;5;124m\"\u001B[39m\u001B[38;5;124mallbig and allsmall lengths: \u001B[39m\u001B[38;5;132;01m{\u001B[39;00m\u001B[38;5;28mlen\u001B[39m(allbig)\u001B[38;5;132;01m}\u001B[39;00m\u001B[38;5;124m vs \u001B[39m\u001B[38;5;132;01m{\u001B[39;00m\u001B[38;5;28mlen\u001B[39m(allsmall)\u001B[38;5;132;01m}\u001B[39;00m\u001B[38;5;124m\"\u001B[39m)\n\u001B[0;32m--> 117\u001B[0m diflen \u001B[38;5;241m=\u001B[39m np\u001B[38;5;241m.\u001B[39msqrt(\u001B[43mallbig\u001B[49m\u001B[43m \u001B[49m\u001B[38;5;241;43m*\u001B[39;49m\u001B[38;5;241;43m*\u001B[39;49m\u001B[43m \u001B[49m\u001B[38;5;241;43m2\u001B[39;49m\u001B[43m \u001B[49m\u001B[38;5;241;43m-\u001B[39;49m\u001B[43m \u001B[49m\u001B[43mallsmall\u001B[49m\u001B[43m \u001B[49m\u001B[38;5;241;43m*\u001B[39;49m\u001B[38;5;241;43m*\u001B[39;49m\u001B[43m \u001B[49m\u001B[38;5;241;43m2\u001B[39;49m) \u001B[38;5;241m*\u001B[39m \u001B[38;5;241m15.0\u001B[39m\n\u001B[1;32m    118\u001B[0m diflen2 \u001B[38;5;241m=\u001B[39m np\u001B[38;5;241m.\u001B[39msqrt(allbig \u001B[38;5;241m*\u001B[39m\u001B[38;5;241m*\u001B[39m \u001B[38;5;241m2\u001B[39m \u001B[38;5;241m-\u001B[39m \u001B[38;5;241m0.08333\u001B[39m) \u001B[38;5;241m*\u001B[39m \u001B[38;5;241m15.0\u001B[39m\n\u001B[1;32m    120\u001B[0m mo \u001B[38;5;241m=\u001B[39m [np\u001B[38;5;241m.\u001B[39mmean(diflen), np\u001B[38;5;241m.\u001B[39mvar(diflen)]\n",
      "\u001B[0;31mValueError\u001B[0m: operands could not be broadcast together with shapes (176,) (174,) "
     ]
    }
   ],
   "execution_count": 4
  },
  {
   "metadata": {
    "ExecuteTime": {
     "end_time": "2024-10-24T19:32:45.830033005Z",
     "start_time": "2024-10-24T18:23:03.463661Z"
    }
   },
   "cell_type": "code",
   "source": "",
   "id": "fb583fb2bb7aa629",
   "outputs": [],
   "execution_count": null
  }
 ],
 "metadata": {
  "kernelspec": {
   "display_name": "Python 3",
   "language": "python",
   "name": "python3"
  },
  "language_info": {
   "codemirror_mode": {
    "name": "ipython",
    "version": 2
   },
   "file_extension": ".py",
   "mimetype": "text/x-python",
   "name": "python",
   "nbconvert_exporter": "python",
   "pygments_lexer": "ipython2",
   "version": "2.7.6"
  }
 },
 "nbformat": 4,
 "nbformat_minor": 5
}
